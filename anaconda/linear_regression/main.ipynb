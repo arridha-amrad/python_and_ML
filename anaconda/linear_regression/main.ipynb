{
 "cells": [
  {
   "cell_type": "code",
   "execution_count": 97,
   "metadata": {},
   "outputs": [],
   "source": [
    "import pandas as pd\n",
    "import numpy as np\n",
    "import sklearn\n",
    "from sklearn import linear_model\n",
    "from sklearn.utils import shuffle\n",
    "\n",
    "# graphical refference\n",
    "import matplotlib.pyplot as plt\n",
    "from matplotlib import style\n",
    "# saving model\n",
    "import pickle"
   ]
  },
  {
   "cell_type": "code",
   "execution_count": 98,
   "metadata": {},
   "outputs": [
    {
     "name": "stdout",
     "output_type": "stream",
     "text": [
      "     G1  G2  G3  studytime  failures  absences\n",
      "143  14  14  13          1         0         2\n",
      "306  17  18  18          1         0         0\n",
      "289  15  13  15          2         0         9\n",
      "149   8   9  10          1         3         0\n",
      "218   7   7   8          1         0         3\n"
     ]
    }
   ],
   "source": [
    "data = pd.read_csv(\"student-mat.csv\", sep=\";\")\n",
    "# trimming data\n",
    "data = data[[\"G1\", \"G2\", \"G3\", \"studytime\", \"failures\", \"absences\"]]\n",
    "# optional to shuffle data\n",
    "data = shuffle(data)\n",
    "print(data.head())"
   ]
  },
  {
   "cell_type": "raw",
   "metadata": {},
   "source": [
    "Separating data into 4 arrays.\n",
    "Attribute we want to predict is G3. we can say this as label.\n",
    "Other attributes that determine the label called features.\n",
    "\n",
    "Split the data into training and test data.\n",
    "90% of data will be used to train & 10% to test.\n",
    "So, we don't test our model on data that it has already seen."
   ]
  },
  {
   "cell_type": "code",
   "execution_count": 99,
   "metadata": {},
   "outputs": [],
   "source": [
    "predict = \"G3\"\n",
    "x = np.array(data.drop([predict], 1))  #features\n",
    "y = np.array(data[predict])  #labels\n",
    "\n",
    "x_train, x_test, y_train, y_test = sklearn.model_selection.train_test_split(x, y, test_size = 0.1)"
   ]
  },
  {
   "cell_type": "markdown",
   "metadata": {},
   "source": [
    "TRAINING MODEL MULTIPLE TIMES"
   ]
  },
  {
   "cell_type": "code",
   "execution_count": 100,
   "metadata": {},
   "outputs": [
    {
     "name": "stdout",
     "output_type": "stream",
     "text": [
      "0.942057273138557\n"
     ]
    }
   ],
   "source": [
    "best = 0\n",
    "for _ in range(100):\n",
    "    x_train, x_test, y_train, y_test = sklearn.model_selection.train_test_split(x, y, test_size = 0.1)\n",
    "    \n",
    "    # implementing the algorithm\n",
    "    # defining model which we will be using\n",
    "    linear = linear_model.LinearRegression()\n",
    "\n",
    "    # train and score our model using arrays we have created above\n",
    "    linear.fit(x_train, y_train)\n",
    "    acc = linear.score(x_test, y_test) # acc stands for accuracy\n",
    "    \n",
    "    if acc > best:\n",
    "        best = acc\n",
    "        # save the model into studentgrades.pickle\n",
    "        with open(\"studentgrades.pickle\", \"wb\") as f:\n",
    "            pickle.dump(linear, f)\n",
    "    \n",
    "# see how well our algorithm performed on our test data\n",
    "print(best)"
   ]
  },
  {
   "cell_type": "code",
   "execution_count": 101,
   "metadata": {},
   "outputs": [],
   "source": [
    "# Load model\n",
    "pickle_in = open(\"studentgrades.pickle\", \"rb\")\n",
    "linear = pickle.load(pickle_in)"
   ]
  },
  {
   "cell_type": "code",
   "execution_count": 102,
   "metadata": {},
   "outputs": [
    {
     "name": "stdout",
     "output_type": "stream",
     "text": [
      "[ 0.16255771  0.98256049 -0.19404992 -0.23024472  0.03570043]\n"
     ]
    }
   ],
   "source": [
    "# viewing the constants\n",
    "coefficient = linear.coef_\n",
    "print(coefficient)"
   ]
  },
  {
   "cell_type": "code",
   "execution_count": 103,
   "metadata": {},
   "outputs": [
    {
     "name": "stdout",
     "output_type": "stream",
     "text": [
      "-1.6579975885859959\n"
     ]
    }
   ],
   "source": [
    "# viewing the intercept\n",
    "intercept = linear.intercept_\n",
    "print(intercept)"
   ]
  },
  {
   "cell_type": "code",
   "execution_count": 104,
   "metadata": {},
   "outputs": [
    {
     "name": "stdout",
     "output_type": "stream",
     "text": [
      "15.110919554334021 [14 15  2  0  4] 15\n",
      "15.130675527594619 [15 15  2  0  0] 15\n",
      "11.69952916175641 [13 12  3  0  1] 12\n",
      "15.269269037266344 [14 15  1  0  3] 16\n",
      "11.766721804626707 [12 12  2  0  2] 11\n",
      "12.74928229435304 [12 13  2  0  2] 12\n",
      "11.961168431770387 [11 12  2  0 12] 11\n",
      "6.270881171411559 [7 7 1 0 3] 8\n",
      "9.516394068778991 [11 10  3  0  4] 10\n",
      "8.73961973159468 [9 9 1 0 8] 10\n",
      "16.438351431047845 [17 16  2  0  0] 17\n",
      "9.547886278248576 [10 10  2  0  4] 11\n",
      "13.98555733100484 [14 14  2  0  0] 14\n",
      "13.00710740093397 [14 13  3  1 12] 13\n",
      "9.131614024459665 [ 7 10  2  0  6] 10\n",
      "5.91538073356858 [ 7  6  2  0 26] 6\n",
      "18.11826565410546 [16 18  3  0  2] 18\n",
      "9.893154376046711 [12 10  3  0 10] 12\n",
      "5.739485230056335 [7 7 2 1 0] 0\n",
      "7.934850934329058 [7 9 2 0 0] 8\n",
      "9.222770864521687 [ 8 10  2  0  4] 10\n",
      "9.1912786550521 [ 9 10  3  0  4] 10\n",
      "6.618560604149682 [ 7  8  2  3 10] 10\n",
      "-0.42052035261760534 [10  0  2  0  0] 0\n",
      "10.978607942044054 [11 11  2  0 12] 11\n",
      "17.25835421391073 [16 17  2  0  0] 17\n",
      "12.178868781562937 [10 13  4  0  6] 13\n",
      "9.761692167842204 [11 10  1  0  0] 10\n",
      "9.211034628312696 [10 10  3  0  0] 9\n",
      "8.474168948460221 [9 9 2 0 6] 10\n",
      "5.775680038543358 [7 7 3 0 0] 8\n",
      "7.36344867136633 [5 9 2 2 6] 7\n",
      "5.7923349732263265 [ 8  6  2  0 18] 7\n",
      "12.59514103535185 [13 13  4  0  4] 12\n",
      "12.586724587489595 [11 13  2  0  2] 13\n",
      "8.240210374795353 [8 9 2 0 4] 10\n",
      "9.313927704583707 [ 9 10  2  0  2] 9\n",
      "4.107898762505383 [ 5  5  2  0 12] 5\n",
      "12.765937229036009 [13 12  1  0 20] 12\n",
      "7.991017815533215 [10  8  1  0 10] 9\n"
     ]
    }
   ],
   "source": [
    "# predicting on specific students\n",
    "predictions = linear.predict(x_test)  # Gets a list of all predictions\n",
    "\n",
    "for x in range(len(predictions)):\n",
    "    print(predictions[x], x_test[x], y_test[x])"
   ]
  },
  {
   "cell_type": "code",
   "execution_count": 105,
   "metadata": {},
   "outputs": [
    {
     "data": {
      "image/png": "[encoded data removed]",
      "text/plain": [
       "<Figure size 640x480 with 1 Axes>"
      ]
     },
     "metadata": {},
     "output_type": "display_data"
    }
   ],
   "source": [
    "# drawing and plotting model\n",
    "# grapthical representation style\n",
    "style.use(\"default\")\n",
    "\n",
    "plot = \"G1\"\n",
    "plt.scatter(data[plot], data[\"G3\"])\n",
    "plt.xlabel(plot)\n",
    "plt.ylabel(\"Final Grade\")\n",
    "plt.show()"
   ]
  },
  {
   "cell_type": "code",
   "execution_count": null,
   "metadata": {},
   "outputs": [],
   "source": []
  }
 ],
 "metadata": {
  "kernelspec": {
   "display_name": "Python 3",
   "language": "python",
   "name": "python3"
  },
  "language_info": {
   "codemirror_mode": {
    "name": "ipython",
    "version": 3
   },
   "file_extension": ".py",
   "mimetype": "text/x-python",
   "name": "python",
   "nbconvert_exporter": "python",
   "pygments_lexer": "ipython3",
   "version": "3.7.6"
  }
 },
 "nbformat": 4,
 "nbformat_minor": 4
}
