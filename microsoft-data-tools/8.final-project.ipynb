{
 "cells": [
  {
   "cell_type": "code",
   "execution_count": 30,
   "metadata": {},
   "outputs": [],
   "source": [
    "import pandas as pd\n",
    "import sklearn\n",
    "import numpy as np\n",
    "from sklearn.model_selection import train_test_split\n",
    "from sklearn.linear_model import LinearRegression\n",
    "\n",
    "import matplotlib.pyplot as plt"
   ]
  },
  {
   "cell_type": "code",
   "execution_count": 6,
   "metadata": {},
   "outputs": [
    {
     "name": "stdout",
     "output_type": "stream",
     "text": [
      "<class 'pandas.core.frame.DataFrame'>\n",
      "RangeIndex: 300000 entries, 0 to 299999\n",
      "Data columns (total 16 columns):\n",
      " #   Column               Non-Null Count   Dtype  \n",
      "---  ------               --------------   -----  \n",
      " 0   FL_DATE              300000 non-null  object \n",
      " 1   OP_UNIQUE_CARRIER    300000 non-null  object \n",
      " 2   TAIL_NUM             299660 non-null  object \n",
      " 3   OP_CARRIER_FL_NUM    300000 non-null  int64  \n",
      " 4   ORIGIN               300000 non-null  object \n",
      " 5   DEST                 300000 non-null  object \n",
      " 6   CRS_DEP_TIME         300000 non-null  int64  \n",
      " 7   DEP_TIME             296825 non-null  float64\n",
      " 8   DEP_DELAY            296825 non-null  float64\n",
      " 9   CRS_ARR_TIME         300000 non-null  int64  \n",
      " 10  ARR_TIME             296574 non-null  float64\n",
      " 11  ARR_DELAY            295832 non-null  float64\n",
      " 12  CRS_ELAPSED_TIME     300000 non-null  int64  \n",
      " 13  ACTUAL_ELAPSED_TIME  295832 non-null  float64\n",
      " 14  AIR_TIME             295832 non-null  float64\n",
      " 15  DISTANCE             300000 non-null  int64  \n",
      "dtypes: float64(6), int64(5), object(5)\n",
      "memory usage: 36.6+ MB\n"
     ]
    }
   ],
   "source": [
    "# create data frame\n",
    "delays_df = pd.read_csv(\"Data/Lots_of_flight_data.csv\")\n",
    "delays_df.info()"
   ]
  },
  {
   "cell_type": "code",
   "execution_count": 9,
   "metadata": {},
   "outputs": [
    {
     "name": "stdout",
     "output_type": "stream",
     "text": [
      "<class 'pandas.core.frame.DataFrame'>\n",
      "Int64Index: 295832 entries, 0 to 299999\n",
      "Data columns (total 16 columns):\n",
      " #   Column               Non-Null Count   Dtype  \n",
      "---  ------               --------------   -----  \n",
      " 0   FL_DATE              295832 non-null  object \n",
      " 1   OP_UNIQUE_CARRIER    295832 non-null  object \n",
      " 2   TAIL_NUM             295832 non-null  object \n",
      " 3   OP_CARRIER_FL_NUM    295832 non-null  int64  \n",
      " 4   ORIGIN               295832 non-null  object \n",
      " 5   DEST                 295832 non-null  object \n",
      " 6   CRS_DEP_TIME         295832 non-null  int64  \n",
      " 7   DEP_TIME             295832 non-null  float64\n",
      " 8   DEP_DELAY            295832 non-null  float64\n",
      " 9   CRS_ARR_TIME         295832 non-null  int64  \n",
      " 10  ARR_TIME             295832 non-null  float64\n",
      " 11  ARR_DELAY            295832 non-null  float64\n",
      " 12  CRS_ELAPSED_TIME     295832 non-null  int64  \n",
      " 13  ACTUAL_ELAPSED_TIME  295832 non-null  float64\n",
      " 14  AIR_TIME             295832 non-null  float64\n",
      " 15  DISTANCE             295832 non-null  int64  \n",
      "dtypes: float64(6), int64(5), object(5)\n",
      "memory usage: 38.4+ MB\n"
     ]
    }
   ],
   "source": [
    "# our data_frame has missing value\n",
    "# cause, 300000 entries but some column only have 295832\n",
    "delays_df.dropna(inplace=True)\n",
    "delays_df.info()"
   ]
  },
  {
   "cell_type": "code",
   "execution_count": 11,
   "metadata": {},
   "outputs": [],
   "source": [
    "# ensure that our data_frame has no duplicate value\n",
    "delays_df.drop_duplicates(inplace=True)"
   ]
  },
  {
   "cell_type": "code",
   "execution_count": 14,
   "metadata": {},
   "outputs": [],
   "source": [
    "# Split data_frame into features and label\n",
    "X = delays_df.loc[:, [\"DEP_DELAY\"]]  # features\n",
    "y = delays_df.loc[:, [\"ARR_DELAY\"]]  # label"
   ]
  },
  {
   "cell_type": "code",
   "execution_count": 15,
   "metadata": {},
   "outputs": [
    {
     "name": "stdout",
     "output_type": "stream",
     "text": [
      "X_train :          DEP_DELAY\n",
      "172560       -8.0\n",
      "216512       -2.0\n",
      "226502       -8.0\n",
      "223830       -9.0\n",
      "179113       -5.0\n",
      "...           ...\n",
      "120725        0.0\n",
      "263004       -3.0\n",
      "132863       67.0\n",
      "147937        6.0\n",
      "122827       -4.0\n",
      "\n",
      "[207082 rows x 1 columns]\n"
     ]
    }
   ],
   "source": [
    "# Split data_frame into train and test\n",
    "X_train, X_test, y_train, y_test = train_test_split(X, y, test_size=0.3, random_state=42)\n",
    "print(\"X_train : \", X_train)"
   ]
  },
  {
   "cell_type": "code",
   "execution_count": 16,
   "metadata": {},
   "outputs": [],
   "source": [
    "# create model using Linear_Regression\n",
    "regressor = LinearRegression()"
   ]
  },
  {
   "cell_type": "code",
   "execution_count": 17,
   "metadata": {},
   "outputs": [
    {
     "data": {
      "text/plain": [
       "LinearRegression(copy_X=True, fit_intercept=True, n_jobs=None, normalize=False)"
      ]
     },
     "execution_count": 17,
     "metadata": {},
     "output_type": "execute_result"
    }
   ],
   "source": [
    "# train the model\n",
    "regressor.fit(X_train, y_train)"
   ]
  },
  {
   "cell_type": "code",
   "execution_count": 27,
   "metadata": {},
   "outputs": [
    {
     "data": {
      "text/plain": [
       "array([[-3.63535628],\n",
       "       [-8.68666396],\n",
       "       [-4.64561782],\n",
       "       ...,\n",
       "       [-7.67640242],\n",
       "       [-9.6969255 ],\n",
       "       [-7.67640242]])"
      ]
     },
     "execution_count": 27,
     "metadata": {},
     "output_type": "execute_result"
    }
   ],
   "source": [
    "# get predicted value\n",
    "y_predict = regressor.predict(X_test)\n",
    "y_predict\n"
   ]
  },
  {
   "cell_type": "code",
   "execution_count": 34,
   "metadata": {},
   "outputs": [
    {
     "data": {
      "image/png": "[encoded data removed]",
      "text/plain": [
       "<Figure size 432x288 with 1 Axes>"
      ]
     },
     "metadata": {
      "needs_background": "light"
     },
     "output_type": "display_data"
    }
   ],
   "source": [
    "# visualize using matplotlib\n",
    "plt.xlabel = \"Departure delays(minutes)\"\n",
    "plt.ylabel = \"Arrival delays(minutes)\"\n",
    "plt.title = \"Predicted arrival delays\"\n",
    "\n",
    "plt.plot(X_test, y_predict, color=\"yellow\", linewidth=2)\n",
    "\n",
    "plt.scatter(\n",
    "    x = delays_df[\"DEP_DELAY\"],\n",
    "    y = delays_df[\"ARR_DELAY\"],\n",
    "    color = \"blue\",\n",
    "    alpha = 0.3\n",
    ")\n",
    "\n",
    "plt.show()"
   ]
  },
  {
   "cell_type": "code",
   "execution_count": null,
   "metadata": {},
   "outputs": [],
   "source": []
  }
 ],
 "metadata": {
  "kernelspec": {
   "display_name": "Python 3",
   "language": "python",
   "name": "python3"
  },
  "language_info": {
   "codemirror_mode": {
    "name": "ipython",
    "version": 3
   },
   "file_extension": ".py",
   "mimetype": "text/x-python",
   "name": "python",
   "nbconvert_exporter": "python",
   "pygments_lexer": "ipython3",
   "version": "3.7.7"
  }
 },
 "nbformat": 4,
 "nbformat_minor": 4
}
