{
 "cells": [
  {
   "cell_type": "markdown",
   "metadata": {},
   "source": [
    "# Pandas\n",
    "- high performance & familiar data structure & data analysis tools"
   ]
  },
  {
   "cell_type": "code",
   "execution_count": 2,
   "metadata": {},
   "outputs": [],
   "source": [
    "import pandas as pd"
   ]
  },
  {
   "cell_type": "markdown",
   "metadata": {},
   "source": [
    "# Panda series\n",
    "- one dimensional array of object\n",
    "- each row has an index\n",
    "- by default index is zero-based"
   ]
  },
  {
   "cell_type": "code",
   "execution_count": 9,
   "metadata": {},
   "outputs": [
    {
     "data": {
      "text/plain": [
       "0    Soekarno-Hatta\n",
       "1     Sabiha-Gokcen\n",
       "2             SSQ 2\n",
       "3      Adi-Sutjipto\n",
       "4            Narita\n",
       "dtype: object"
      ]
     },
     "execution_count": 9,
     "metadata": {},
     "output_type": "execute_result"
    }
   ],
   "source": [
    "# how to create a new series using panda\n",
    "airports = pd.Series([\"Soekarno-Hatta\", \"Sabiha-Gokcen\", \"SSQ 2\", \"Adi-Sutjipto\", \"Narita\"])\n",
    "airports"
   ]
  },
  {
   "cell_type": "code",
   "execution_count": 6,
   "metadata": {},
   "outputs": [
    {
     "name": "stdout",
     "output_type": "stream",
     "text": [
      "Soekarno-Hatta\n",
      "Sabiha-Gokcen\n",
      "SSQ 2\n",
      "Adi-Sutjipto\n",
      "Narita\n"
     ]
    }
   ],
   "source": [
    "# use loop to iterate airports value\n",
    "for airport in airports:\n",
    "    print(airport)"
   ]
  },
  {
   "cell_type": "markdown",
   "metadata": {},
   "source": [
    "# Data Frame\n",
    "- for 2 dimensional data structures\n",
    "- similar to a table in database"
   ]
  },
  {
   "cell_type": "code",
   "execution_count": 8,
   "metadata": {},
   "outputs": [
    {
     "data": {
      "text/html": [
       "<div>\n",
       "<style scoped>\n",
       "    .dataframe tbody tr th:only-of-type {\n",
       "        vertical-align: middle;\n",
       "    }\n",
       "\n",
       "    .dataframe tbody tr th {\n",
       "        vertical-align: top;\n",
       "    }\n",
       "\n",
       "    .dataframe thead th {\n",
       "        text-align: right;\n",
       "    }\n",
       "</style>\n",
       "<table border=\"1\" class=\"dataframe\">\n",
       "  <thead>\n",
       "    <tr style=\"text-align: right;\">\n",
       "      <th></th>\n",
       "      <th>0</th>\n",
       "      <th>1</th>\n",
       "      <th>2</th>\n",
       "    </tr>\n",
       "  </thead>\n",
       "  <tbody>\n",
       "    <tr>\n",
       "      <th>0</th>\n",
       "      <td>Soekarno-Hatta</td>\n",
       "      <td>Jakarta</td>\n",
       "      <td>Indonesia</td>\n",
       "    </tr>\n",
       "    <tr>\n",
       "      <th>1</th>\n",
       "      <td>Sabiha-Gokcen</td>\n",
       "      <td>Istanbul</td>\n",
       "      <td>Turki</td>\n",
       "    </tr>\n",
       "    <tr>\n",
       "      <th>2</th>\n",
       "      <td>SSQ 2</td>\n",
       "      <td>Pekanbaru</td>\n",
       "      <td>Indonesia</td>\n",
       "    </tr>\n",
       "    <tr>\n",
       "      <th>3</th>\n",
       "      <td>Adi-Sutjipto</td>\n",
       "      <td>Yogyakarta</td>\n",
       "      <td>Indonesia</td>\n",
       "    </tr>\n",
       "    <tr>\n",
       "      <th>4</th>\n",
       "      <td>Harita</td>\n",
       "      <td>Tokyo</td>\n",
       "      <td>Japan</td>\n",
       "    </tr>\n",
       "  </tbody>\n",
       "</table>\n",
       "</div>"
      ],
      "text/plain": [
       "                0           1          2\n",
       "0  Soekarno-Hatta     Jakarta  Indonesia\n",
       "1   Sabiha-Gokcen    Istanbul      Turki\n",
       "2           SSQ 2   Pekanbaru  Indonesia\n",
       "3    Adi-Sutjipto  Yogyakarta  Indonesia\n",
       "4          Harita       Tokyo      Japan"
      ]
     },
     "execution_count": 8,
     "metadata": {},
     "output_type": "execute_result"
    }
   ],
   "source": [
    "# how to create new dataframe using panda\n",
    "airports = pd.DataFrame([\n",
    "    [\"Soekarno-Hatta\", \"Jakarta\", \"Indonesia\"],\n",
    "    [\"Sabiha-Gokcen\", \"Istanbul\", \"Turki\"],\n",
    "    [\"SSQ 2\", \"Pekanbaru\", \"Indonesia\"],\n",
    "    [\"Adi-Sutjipto\", \"Yogyakarta\", \"Indonesia\"],\n",
    "    [\"Harita\", \"Tokyo\", \"Japan\"]\n",
    "])\n",
    "airports"
   ]
  },
  {
   "cell_type": "code",
   "execution_count": 10,
   "metadata": {},
   "outputs": [
    {
     "data": {
      "text/html": [
       "<div>\n",
       "<style scoped>\n",
       "    .dataframe tbody tr th:only-of-type {\n",
       "        vertical-align: middle;\n",
       "    }\n",
       "\n",
       "    .dataframe tbody tr th {\n",
       "        vertical-align: top;\n",
       "    }\n",
       "\n",
       "    .dataframe thead th {\n",
       "        text-align: right;\n",
       "    }\n",
       "</style>\n",
       "<table border=\"1\" class=\"dataframe\">\n",
       "  <thead>\n",
       "    <tr style=\"text-align: right;\">\n",
       "      <th></th>\n",
       "      <th>Name</th>\n",
       "      <th>City</th>\n",
       "      <th>Country</th>\n",
       "    </tr>\n",
       "  </thead>\n",
       "  <tbody>\n",
       "    <tr>\n",
       "      <th>0</th>\n",
       "      <td>Soekarno-Hatta</td>\n",
       "      <td>Jakarta</td>\n",
       "      <td>Indonesia</td>\n",
       "    </tr>\n",
       "    <tr>\n",
       "      <th>1</th>\n",
       "      <td>Sabiha-Gokcen</td>\n",
       "      <td>Istanbul</td>\n",
       "      <td>Turki</td>\n",
       "    </tr>\n",
       "    <tr>\n",
       "      <th>2</th>\n",
       "      <td>SSQ 2</td>\n",
       "      <td>Pekanbaru</td>\n",
       "      <td>Indonesia</td>\n",
       "    </tr>\n",
       "    <tr>\n",
       "      <th>3</th>\n",
       "      <td>Adi-Sutjipto</td>\n",
       "      <td>Yogyakarta</td>\n",
       "      <td>Indonesia</td>\n",
       "    </tr>\n",
       "    <tr>\n",
       "      <th>4</th>\n",
       "      <td>Harita</td>\n",
       "      <td>Tokyo</td>\n",
       "      <td>Japan</td>\n",
       "    </tr>\n",
       "  </tbody>\n",
       "</table>\n",
       "</div>"
      ],
      "text/plain": [
       "             Name        City    Country\n",
       "0  Soekarno-Hatta     Jakarta  Indonesia\n",
       "1   Sabiha-Gokcen    Istanbul      Turki\n",
       "2           SSQ 2   Pekanbaru  Indonesia\n",
       "3    Adi-Sutjipto  Yogyakarta  Indonesia\n",
       "4          Harita       Tokyo      Japan"
      ]
     },
     "execution_count": 10,
     "metadata": {},
     "output_type": "execute_result"
    }
   ],
   "source": [
    "# how to label the column\n",
    "airports = pd.DataFrame([\n",
    "    [\"Soekarno-Hatta\", \"Jakarta\", \"Indonesia\"],\n",
    "    [\"Sabiha-Gokcen\", \"Istanbul\", \"Turki\"],\n",
    "    [\"SSQ 2\", \"Pekanbaru\", \"Indonesia\"],\n",
    "    [\"Adi-Sutjipto\", \"Yogyakarta\", \"Indonesia\"],\n",
    "    [\"Harita\", \"Tokyo\", \"Japan\"]],\n",
    "    columns=[\"Name\", \"City\", \"Country\"]\n",
    ")\n",
    "airports"
   ]
  },
  {
   "cell_type": "code",
   "execution_count": null,
   "metadata": {},
   "outputs": [],
   "source": []
  }
 ],
 "metadata": {
  "kernelspec": {
   "display_name": "Python 3",
   "language": "python",
   "name": "python3"
  },
  "language_info": {
   "codemirror_mode": {
    "name": "ipython",
    "version": 3
   },
   "file_extension": ".py",
   "mimetype": "text/x-python",
   "name": "python",
   "nbconvert_exporter": "python",
   "pygments_lexer": "ipython3",
   "version": "3.7.7"
  }
 },
 "nbformat": 4,
 "nbformat_minor": 4
}
